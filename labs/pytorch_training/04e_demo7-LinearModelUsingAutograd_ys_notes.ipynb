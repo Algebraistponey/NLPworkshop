{
 "cells": [
  {
   "cell_type": "code",
   "execution_count": 3,
   "metadata": {},
   "outputs": [],
   "source": [
    "import numpy as np \n",
    "import matplotlib.pyplot as plt"
   ]
  },
  {
   "cell_type": "markdown",
   "metadata": {},
   "source": [
    "#### Creating Dataset\n",
    "A simple dataset using numpy arrays\n",
    "\n",
    "### Notes by Yash: \n",
    "\n",
    "#### Purpose\n",
    "1. Purpose: how to use gradient descent to train a neural network: has two passes- forward pass to make a prediction adn the optimizer calclates the loss and updates the model parameters in a backward pass\n",
    "1. Gradients are partial derivative of loss wrt each model parameter\n",
    "\n",
    "#### Setup\n",
    "1. PyTorch and other FW use automatic differentiation using the autograd package. \n",
    "1. **Notice the column format**: These are single features, `x_train` is a single column vector\n",
    "and `y_train` corresponds to the target value. \n",
    "1. We plot these data on a scatter plot - noticing the linearity of the relationship. \n",
    "1. To create a model, we first import the `torch` library and print the required grad property for both tensors, set to False by default. \n",
    "1. We create our basic NN model, with `input_size`, `hidden_size`, and `output_size` of the respective layers, all set to 1\n",
    "1. We will create this NN from scratch. Won't use any of Pytorch's built-in layers: `w1`: weights, shape is input size * hidden size and it needs gradients since it has model parameters. Gradients wrt loss function will be used to \n",
    "1. W2 shows the connect from hidden layer to output and grad is true. we will also train it using AutoGrad\n",
    "1. Next we have a design hyper parameter: learning rate which is the size of the step the model takes to the optimum. We multiply the learning rate with the gradient to determine how much to modify the training parameters. \n",
    "\n",
    "#### Training\n",
    "\n",
    "1. After making a forward path, we get `y_pred`: current predicted vales which we can use against the actual `y_train` values to calc the MSE loss. \n",
    "1. Print periodically so we know we're converging\n",
    "1. Calculate the gradient by performing the backward pass with `loss.backward()`: now `w1` and `w2` have gradients. \n",
    "1. For udpating, we don't need gradient tracking. so turn it off.\n",
    "1. subtract from teh current values of w1 and w2 zeroing out the existing gradients on both of these tensors: `w1.grad.zero_()` and `w2.grad.zero_()`\n",
    "\n",
    "#### Predictions\n",
    "\n",
    "1. Run the predicted tensor by multiplying x_train_tensor with the weights. \n",
    "1. Convert to numpy format to visualize with `matplotlib` scatter plot - to view the training data and the x_training against predicted vales\n",
    "1. We did not train for long - update to 100 iterations (epochs)\n"
   ]
  },
  {
   "cell_type": "code",
   "execution_count": 22,
   "metadata": {},
   "outputs": [],
   "source": [
    "x_train = np.array ([[4.7], [2.4], [7.5], [7.1], [4.3], [7.816], \n",
    "                     [8.9], [5.2], [8.59], [2.1], [8] , \n",
    "                     [10], [4.5], [6], [4]],\n",
    "                    dtype = np.float32)\n",
    "\n",
    "y_train = np.array ([[2.6], [1.6], [3.09], [2.4], [2.4], [3.357], \n",
    "                     [2.6], [1.96], [3.53], [1.76], [3.2] , \n",
    "                     [3.5], [1.6], [2.5], [2.2]], \n",
    "                    dtype = np.float32)"
   ]
  },
  {
   "cell_type": "code",
   "execution_count": 23,
   "metadata": {},
   "outputs": [
    {
     "data": {
      "text/plain": [
       "((15, 1), (15, 1))"
      ]
     },
     "execution_count": 23,
     "metadata": {},
     "output_type": "execute_result"
    }
   ],
   "source": [
    "x_train.shape, y_train.shape"
   ]
  },
  {
   "cell_type": "markdown",
   "metadata": {},
   "source": [
    "#### View the data\n",
    "There seems to be some relationship which can be plotted between x_train and y_train. A regression line can be drawn to represent the relationship"
   ]
  },
  {
   "cell_type": "code",
   "execution_count": 24,
   "metadata": {},
   "outputs": [
    {
     "data": {
      "image/png": "[encoded data removed]",
      "text/plain": [
       "<Figure size 864x576 with 1 Axes>"
      ]
     },
     "metadata": {
      "needs_background": "light"
     },
     "output_type": "display_data"
    }
   ],
   "source": [
    "plt.figure(figsize=(12, 8))\n",
    "\n",
    "plt.scatter(x_train, y_train, label='Original data', s=250, c='g')\n",
    "\n",
    "plt.legend()\n",
    "plt.show()"
   ]
  },
  {
   "cell_type": "code",
   "execution_count": 25,
   "metadata": {},
   "outputs": [],
   "source": [
    "import torch "
   ]
  },
  {
   "cell_type": "markdown",
   "metadata": {},
   "source": [
    "#### Converting data to pytorch tensors\n",
    "By default `requires_grad = False`"
   ]
  },
  {
   "cell_type": "code",
   "execution_count": 26,
   "metadata": {},
   "outputs": [
    {
     "name": "stdout",
     "output_type": "stream",
     "text": [
      "requires_grad for X_train:  False\n",
      "requires_grad for Y_train:  False\n"
     ]
    }
   ],
   "source": [
    "X_train = torch.from_numpy(x_train) \n",
    "Y_train = torch.from_numpy(y_train)\n",
    "\n",
    "print('requires_grad for X_train: ', X_train.requires_grad)\n",
    "print('requires_grad for Y_train: ', Y_train.requires_grad)"
   ]
  },
  {
   "cell_type": "markdown",
   "metadata": {},
   "source": [
    "#### Set the details for our neural network\n",
    "Input, output and hidden layer sizes plus the learning rate"
   ]
  },
  {
   "cell_type": "code",
   "execution_count": 27,
   "metadata": {},
   "outputs": [],
   "source": [
    "input_size = 1 \n",
    "hidden_size = 1\n",
    "output_size = 1"
   ]
  },
  {
   "cell_type": "markdown",
   "metadata": {},
   "source": [
    "#### Create random Tensors for weights.<br>\n",
    "Setting requires_grad=True indicates that we want to compute gradients with respect to these Tensors during the backward pass"
   ]
  },
  {
   "cell_type": "code",
   "execution_count": 28,
   "metadata": {},
   "outputs": [
    {
     "data": {
      "text/plain": [
       "torch.Size([1, 1])"
      ]
     },
     "execution_count": 28,
     "metadata": {},
     "output_type": "execute_result"
    }
   ],
   "source": [
    "w1 = torch.rand(input_size, \n",
    "                hidden_size, \n",
    "                \n",
    "                requires_grad=True)\n",
    "w1.shape"
   ]
  },
  {
   "cell_type": "code",
   "execution_count": 29,
   "metadata": {},
   "outputs": [
    {
     "data": {
      "text/plain": [
       "torch.Size([1, 1])"
      ]
     },
     "execution_count": 29,
     "metadata": {},
     "output_type": "execute_result"
    }
   ],
   "source": [
    "w2 = torch.rand(hidden_size, \n",
    "                output_size, \n",
    "                \n",
    "                requires_grad=True)\n",
    "w2.shape"
   ]
  },
  {
   "cell_type": "markdown",
   "metadata": {},
   "source": [
    "## Training\n",
    "\n",
    "#### Foward Pass:\n",
    "* Predicting Y with input data X\n",
    "* finding (matrix X matrix) using .mm function, finding product of X_train and w1 and activation function is identity function\n",
    "* again doing mat product data with second weight w2\n",
    "\n",
    "#### Finding Loss:\n",
    "* Finding difference between Y_train and Y_pred by squaring the difference and then summing out, similar to nn.MSELoss \n",
    "\n",
    "\n",
    "#### For the loss_backward() function call:\n",
    "* backward pass will compute the gradient of loss with respect to all Tensors with requires_grad=True. \n",
    "* After this call w1.grad and w2.grad will be Tensors holding the gradient of the loss with respect to w1 and w2 respectively.\n",
    "\n",
    "#### Manually updating the weights\n",
    "* weights have requires_grad=True, but we don't need to track this in autograd. So will wrap it in torch.no_grad\n",
    "* reducing weight with multiple of learning rate and gradient\n",
    "* manually zero the weight gradients after updating weights"
   ]
  },
  {
   "cell_type": "code",
   "execution_count": 30,
   "metadata": {},
   "outputs": [],
   "source": [
    "learning_rate = 1e-6"
   ]
  },
  {
   "cell_type": "code",
   "execution_count": 43,
   "metadata": {},
   "outputs": [
    {
     "name": "stdout",
     "output_type": "stream",
     "text": [
      "50 4.089357376098633\n",
      "100 4.089357376098633\n",
      "150 4.089357376098633\n",
      "200 4.089357376098633\n",
      "250 4.089357376098633\n",
      "300 4.089357376098633\n",
      "350 4.089357376098633\n",
      "400 4.089357376098633\n",
      "450 4.089357376098633\n",
      "500 4.089357376098633\n",
      "550 4.089357376098633\n",
      "600 4.089357376098633\n",
      "650 4.089357376098633\n",
      "700 4.089357376098633\n",
      "750 4.089357376098633\n",
      "800 4.089357376098633\n",
      "850 4.089357376098633\n",
      "900 4.089357376098633\n",
      "950 4.089357376098633\n",
      "1000 4.089357376098633\n",
      "1050 4.089357376098633\n",
      "1100 4.089357376098633\n",
      "1150 4.089357376098633\n",
      "1200 4.089357376098633\n",
      "1250 4.089357376098633\n",
      "1300 4.089357376098633\n",
      "1350 4.089357376098633\n",
      "1400 4.089357376098633\n",
      "1450 4.089357376098633\n",
      "1500 4.089357376098633\n",
      "1550 4.089357376098633\n",
      "1600 4.089357376098633\n",
      "1650 4.089357376098633\n",
      "1700 4.089357376098633\n",
      "1750 4.089357376098633\n",
      "1800 4.089357376098633\n",
      "1850 4.089357376098633\n",
      "1900 4.089357376098633\n",
      "1950 4.089357376098633\n",
      "2000 4.089357376098633\n",
      "2050 4.089357376098633\n",
      "2100 4.089357376098633\n",
      "2150 4.089357376098633\n",
      "2200 4.089357376098633\n",
      "2250 4.089357376098633\n",
      "2300 4.089357376098633\n",
      "2350 4.089357376098633\n",
      "2400 4.089357376098633\n",
      "2450 4.089357376098633\n",
      "2500 4.089357376098633\n",
      "2550 4.089357376098633\n",
      "2600 4.089357376098633\n",
      "2650 4.089357376098633\n",
      "2700 4.089357376098633\n",
      "2750 4.089357376098633\n",
      "2800 4.089357376098633\n",
      "2850 4.089357376098633\n",
      "2900 4.089357376098633\n",
      "2950 4.089357376098633\n"
     ]
    }
   ],
   "source": [
    "# Start at 10. Change this to 100, 1000 and 3000 and run the code all the way to the plot at the bottom\n",
    "num_iter = 3000\n",
    "for iter in range(1, num_iter):\n",
    "    \n",
    "    y_pred = X_train.mm(w1).mm(w2)\n",
    "    loss = (y_pred - Y_train).pow(2).sum()\n",
    "    \n",
    "    if iter % 50 ==0:\n",
    "        print(iter, loss.item())\n",
    "        \n",
    "    loss.backward()\n",
    "    \n",
    "    with torch.no_grad(): # for the updates gradient tracking not needed\n",
    "        w1 -= learning_rate * w1.grad\n",
    "        w2 -= learning_rate * w2.grad\n",
    "        w1.grad.zero_()\n",
    "        w2.grad.zero_()"
   ]
  },
  {
   "cell_type": "code",
   "execution_count": 44,
   "metadata": {},
   "outputs": [
    {
     "name": "stdout",
     "output_type": "stream",
     "text": [
      "w1:  tensor([[0.4288]], requires_grad=True)\n",
      "w2:  tensor([[0.9251]], requires_grad=True)\n"
     ]
    }
   ],
   "source": [
    "print ('w1: ', w1)\n",
    "print ('w2: ', w2)"
   ]
  },
  {
   "cell_type": "markdown",
   "metadata": {},
   "source": [
    "#### Checking the output"
   ]
  },
  {
   "cell_type": "markdown",
   "metadata": {},
   "source": [
    "Converting data into a tensor"
   ]
  },
  {
   "cell_type": "code",
   "execution_count": 45,
   "metadata": {},
   "outputs": [
    {
     "data": {
      "text/plain": [
       "tensor([[ 4.7000],\n",
       "        [ 2.4000],\n",
       "        [ 7.5000],\n",
       "        [ 7.1000],\n",
       "        [ 4.3000],\n",
       "        [ 7.8160],\n",
       "        [ 8.9000],\n",
       "        [ 5.2000],\n",
       "        [ 8.5900],\n",
       "        [ 2.1000],\n",
       "        [ 8.0000],\n",
       "        [10.0000],\n",
       "        [ 4.5000],\n",
       "        [ 6.0000],\n",
       "        [ 4.0000]])"
      ]
     },
     "execution_count": 45,
     "metadata": {},
     "output_type": "execute_result"
    }
   ],
   "source": [
    "x_train_tensor = torch.from_numpy(x_train)\n",
    "x_train_tensor"
   ]
  },
  {
   "cell_type": "markdown",
   "metadata": {},
   "source": [
    "#### Get the predicted values using the weights \n",
    "Using final weights calculated from our training in order to get the predicted values"
   ]
  },
  {
   "cell_type": "code",
   "execution_count": 46,
   "metadata": {},
   "outputs": [
    {
     "data": {
      "text/plain": [
       "tensor([[1.8642],\n",
       "        [0.9519],\n",
       "        [2.9747],\n",
       "        [2.8161],\n",
       "        [1.7055],\n",
       "        [3.1001],\n",
       "        [3.5300],\n",
       "        [2.0625],\n",
       "        [3.4071],\n",
       "        [0.8329],\n",
       "        [3.1730],\n",
       "        [3.9663],\n",
       "        [1.7848],\n",
       "        [2.3798],\n",
       "        [1.5865]], grad_fn=<MmBackward>)"
      ]
     },
     "execution_count": 46,
     "metadata": {},
     "output_type": "execute_result"
    }
   ],
   "source": [
    "predicted_in_tensor = x_train_tensor.mm(w1).mm(w2)\n",
    "predicted_in_tensor"
   ]
  },
  {
   "cell_type": "markdown",
   "metadata": {},
   "source": [
    "#### Convert the prediction to a numpy array\n",
    "This will be used to plot the regression line in a plot"
   ]
  },
  {
   "cell_type": "code",
   "execution_count": 47,
   "metadata": {},
   "outputs": [
    {
     "data": {
      "text/plain": [
       "array([[1.8641611 ],\n",
       "       [0.9519121 ],\n",
       "       [2.9747252 ],\n",
       "       [2.8160734 ],\n",
       "       [1.7055093 ],\n",
       "       [3.1000605 ],\n",
       "       [3.5300071 ],\n",
       "       [2.0624762 ],\n",
       "       [3.4070523 ],\n",
       "       [0.83292305],\n",
       "       [3.1730404 ],\n",
       "       [3.9663007 ],\n",
       "       [1.7848352 ],\n",
       "       [2.3797803 ],\n",
       "       [1.5865202 ]], dtype=float32)"
      ]
     },
     "execution_count": 47,
     "metadata": {},
     "output_type": "execute_result"
    }
   ],
   "source": [
    "predicted = predicted_in_tensor.detach().numpy()\n",
    "predicted"
   ]
  },
  {
   "cell_type": "markdown",
   "metadata": {},
   "source": [
    "#### Plotting\n",
    "Our training has produced a rather accurate regression line"
   ]
  },
  {
   "cell_type": "code",
   "execution_count": 48,
   "metadata": {},
   "outputs": [
    {
     "data": {
      "image/png": "[encoded data removed]",
      "text/plain": [
       "<Figure size 864x576 with 1 Axes>"
      ]
     },
     "metadata": {
      "needs_background": "light"
     },
     "output_type": "display_data"
    }
   ],
   "source": [
    "plt.figure(figsize=(12, 8))\n",
    "\n",
    "plt.scatter(x_train, y_train, label = 'Original data', s=250, c='g') \n",
    "\n",
    "plt.plot(x_train, predicted, label = 'Fitted line ')\n",
    "\n",
    "plt.legend() \n",
    "\n",
    "plt.show()"
   ]
  }
 ],
 "metadata": {
  "kernelspec": {
   "display_name": "Python 3",
   "language": "python",
   "name": "python3"
  },
  "language_info": {
   "codemirror_mode": {
    "name": "ipython",
    "version": 3
   },
   "file_extension": ".py",
   "mimetype": "text/x-python",
   "name": "python",
   "nbconvert_exporter": "python",
   "pygments_lexer": "ipython3",
   "version": "3.8.5"
  }
 },
 "nbformat": 4,
 "nbformat_minor": 4
}
